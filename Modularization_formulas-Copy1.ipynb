{
 "cells": [
  {
   "cell_type": "code",
   "execution_count": 1,
   "metadata": {},
   "outputs": [],
   "source": [
    "def pre_visualize():\n",
    "    g = sns.pairplot(df)\n",
    "    g.fig.suptitle('FacetGrid plot', fontsize = 20)\n",
    "    g.fig.subplots_adjust(top= 0.9)"
   ]
  },
  {
   "cell_type": "code",
   "execution_count": null,
   "metadata": {},
   "outputs": [],
   "source": [
    "def test_train_split_N_reshape():\n",
    "    x = (feature)\n",
    "    y = y.values.reshape(-1,1)\n",
    "    x = x.values.reshape(-1,1)\n",
    "    x_train, x_test, y_train, y_test = train_test_split( x, y, test_size=0.33, random_state=1)\n",
    "    train_test_split(y, shuffle=False)\n",
    "    #from sklearn.model_selection import train_test_split"
   ]
  },
  {
   "cell_type": "code",
   "execution_count": 19,
   "metadata": {},
   "outputs": [],
   "source": [
    "def rf_hp():\n",
    "    params_grid={'n_estimators': n_estimators,\n",
    "               'max_features': max_features,\n",
    "               'max_depth': max_depth,\n",
    "               'min_samples_split': min_samples_split,\n",
    "               'min_samples_leaf': min_samples_leaf,\n",
    "               'bootstrap': bootstrap}\n",
    "    #incomplete"
   ]
  },
  {
   "cell_type": "code",
   "execution_count": 11,
   "metadata": {},
   "outputs": [],
   "source": []
  },
  {
   "cell_type": "code",
   "execution_count": 22,
   "metadata": {},
   "outputs": [],
   "source": []
  },
  {
   "cell_type": "code",
   "execution_count": null,
   "metadata": {},
   "outputs": [],
   "source": [
    "def rfr_model_W_GSCV():\n",
    "    forest_model = RandomForestRegressor()\n",
    "    forest_grid = GridSearchCV(estimator = forest_model, param_grid = param_grid, cv = 3, verbose = 2, n_jobs = 2)\n",
    "    forest_grid.fit(x_train, y_train.ravel())\n",
    "    forest_grid.best_params_\n",
    "    #from sklearn.ensemble import RandomForestRegressor\n",
    "    #from sklearn.model_selection import cross_val_score\n",
    "    #from sklearn.model_selection import RandomizedSearchCV\n",
    "    #from sklearn.model_selection import ParameterGrid\n",
    "    #from sklearn.model_selection import GridSearchCV"
   ]
  },
  {
   "cell_type": "code",
   "execution_count": null,
   "metadata": {},
   "outputs": [],
   "source": [
    "def rfr_accuracy():\n",
    "    print(f'Train Accuracy - : {forest_grid.score(x_train, y_train):.3f}')\n",
    "    print(f'Test Accuracy - : {forest_grid.score(x_test, y_test):.3f}')\n",
    "    #from sklearn.ensemble import RandomForestRegressor"
   ]
  },
  {
   "cell_type": "code",
   "execution_count": null,
   "metadata": {},
   "outputs": [],
   "source": [
    "def rfr_importance(): \n",
    "    forest_model.feature_importances_\n",
    "    for i,v in enumerate(importance):\n",
    "        print('Feature: %0d, Score: %.5f' % (i,v))\n",
    "    pyplot.bar([x for x in range(len(importance))], importance)\n",
    "    pyplot.show()\n",
    "    #from sklearn.ensemble import RandomForestRegressor"
   ]
  }
 ],
 "metadata": {
  "kernelspec": {
   "display_name": "Python 3",
   "language": "python",
   "name": "python3"
  },
  "language_info": {
   "codemirror_mode": {
    "name": "ipython",
    "version": 3
   },
   "file_extension": ".py",
   "mimetype": "text/x-python",
   "name": "python",
   "nbconvert_exporter": "python",
   "pygments_lexer": "ipython3",
   "version": "3.7.6"
  }
 },
 "nbformat": 4,
 "nbformat_minor": 4
}
