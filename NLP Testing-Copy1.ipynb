{
 "cells": [
  {
   "cell_type": "code",
   "execution_count": 6,
   "metadata": {},
   "outputs": [
    {
     "name": "stderr",
     "output_type": "stream",
     "text": [
      "[nltk_data] Downloading package punkt to\n",
      "[nltk_data]     C:\\Users\\vinny\\AppData\\Roaming\\nltk_data...\n",
      "[nltk_data]   Unzipping tokenizers\\punkt.zip.\n"
     ]
    },
    {
     "data": {
      "text/plain": [
       "True"
      ]
     },
     "execution_count": 6,
     "metadata": {},
     "output_type": "execute_result"
    }
   ],
   "source": [
    "import numpy as np\n",
    "import pandas as pd\n",
    "import statsmodels.api as sm\n",
    "import matplotlib.pyplot as plt\n",
    "import seaborn as sns\n",
    "import math\n",
    "import scipy\n",
    "import nltk\n",
    "from nltk.tokenize import sent_tokenize, word_tokenize\n",
    "nltk.download('punkt')"
   ]
  },
  {
   "cell_type": "code",
   "execution_count": 7,
   "metadata": {},
   "outputs": [
    {
     "data": {
      "text/html": [
       "<div>\n",
       "<style scoped>\n",
       "    .dataframe tbody tr th:only-of-type {\n",
       "        vertical-align: middle;\n",
       "    }\n",
       "\n",
       "    .dataframe tbody tr th {\n",
       "        vertical-align: top;\n",
       "    }\n",
       "\n",
       "    .dataframe thead th {\n",
       "        text-align: right;\n",
       "    }\n",
       "</style>\n",
       "<table border=\"1\" class=\"dataframe\">\n",
       "  <thead>\n",
       "    <tr style=\"text-align: right;\">\n",
       "      <th></th>\n",
       "      <th>Article</th>\n",
       "      <th>Souce</th>\n",
       "      <th>Author</th>\n",
       "      <th>Date</th>\n",
       "      <th>Bias</th>\n",
       "      <th>Text</th>\n",
       "    </tr>\n",
       "  </thead>\n",
       "  <tbody>\n",
       "    <tr>\n",
       "      <th>0</th>\n",
       "      <td>NaN</td>\n",
       "      <td>NaN</td>\n",
       "      <td>NaN</td>\n",
       "      <td>NaN</td>\n",
       "      <td>NaN</td>\n",
       "      <td>NaN</td>\n",
       "    </tr>\n",
       "    <tr>\n",
       "      <th>1</th>\n",
       "      <td>Laura Ingraham and her guests have promoted at...</td>\n",
       "      <td>Media Matters</td>\n",
       "      <td>Madeline peltz &amp; Justin Horowitz</td>\n",
       "      <td>10/20/20 9:30 AM EDT</td>\n",
       "      <td>Left</td>\n",
       "      <td>During the pandemic that has killed over 200,0...</td>\n",
       "    </tr>\n",
       "    <tr>\n",
       "      <th>2</th>\n",
       "      <td>NaN</td>\n",
       "      <td>NaN</td>\n",
       "      <td>NaN</td>\n",
       "      <td>NaN</td>\n",
       "      <td>NaN</td>\n",
       "      <td>NaN</td>\n",
       "    </tr>\n",
       "    <tr>\n",
       "      <th>3</th>\n",
       "      <td>Trump exploited a broken press. Here’s how to ...</td>\n",
       "      <td>VOX</td>\n",
       "      <td>Sean Illing</td>\n",
       "      <td>Oct 21, 2020, 9:30am EDT</td>\n",
       "      <td>Left</td>\n",
       "      <td>Last Friday, Democratic presidential nominee J...</td>\n",
       "    </tr>\n",
       "    <tr>\n",
       "      <th>4</th>\n",
       "      <td>NaN</td>\n",
       "      <td>NaN</td>\n",
       "      <td>NaN</td>\n",
       "      <td>NaN</td>\n",
       "      <td>NaN</td>\n",
       "      <td>NaN</td>\n",
       "    </tr>\n",
       "    <tr>\n",
       "      <th>5</th>\n",
       "      <td>Videos From Right-Wing Site That Preaches ‘The...</td>\n",
       "      <td>Huffpost</td>\n",
       "      <td>Rebecca Klein</td>\n",
       "      <td>10/19/2020 04:34 pm ET</td>\n",
       "      <td>Left</td>\n",
       "      <td>An Ohio public school has been giving students...</td>\n",
       "    </tr>\n",
       "  </tbody>\n",
       "</table>\n",
       "</div>"
      ],
      "text/plain": [
       "                                             Article          Souce  \\\n",
       "0                                                NaN            NaN   \n",
       "1  Laura Ingraham and her guests have promoted at...  Media Matters   \n",
       "2                                                NaN            NaN   \n",
       "3  Trump exploited a broken press. Here’s how to ...            VOX   \n",
       "4                                                NaN            NaN   \n",
       "5  Videos From Right-Wing Site That Preaches ‘The...       Huffpost   \n",
       "\n",
       "                             Author                      Date  Bias  \\\n",
       "0                               NaN                       NaN   NaN   \n",
       "1  Madeline peltz & Justin Horowitz      10/20/20 9:30 AM EDT  Left   \n",
       "2                               NaN                       NaN   NaN   \n",
       "3                       Sean Illing  Oct 21, 2020, 9:30am EDT  Left   \n",
       "4                               NaN                       NaN   NaN   \n",
       "5                     Rebecca Klein   10/19/2020 04:34 pm ET   Left   \n",
       "\n",
       "                                                Text  \n",
       "0                                                NaN  \n",
       "1  During the pandemic that has killed over 200,0...  \n",
       "2                                                NaN  \n",
       "3  Last Friday, Democratic presidential nominee J...  \n",
       "4                                                NaN  \n",
       "5  An Ohio public school has been giving students...  "
      ]
     },
     "execution_count": 7,
     "metadata": {},
     "output_type": "execute_result"
    }
   ],
   "source": [
    "raw_data = pd.read_csv('downloads/RawdataNLP1.csv')\n",
    "raw_data"
   ]
  },
  {
   "cell_type": "code",
   "execution_count": 14,
   "metadata": {},
   "outputs": [],
   "source": [
    "article = \"During the pandemic that has killed over 200,000 Americans so far, Fox News host Laura Ingraham and her guests have promoted at least seven different unproven treatments they purport could prevent, treat, or alleviate symptoms of COVID-19. The president’s and right-wing media’s obsession with hydroxychloroquine has been well documented. The antimalarial drug has not been proved to treat or prevent COVID-19. Despite this lack of evidence, Fox’s coverage -- riddled with misinformation, conspiracy theories, and political spin -- has been an unmitigated disaster for the development of potential vaccines and therapeutics, undermining scientific research and eroding trust in public health officials. But for Ingraham, a prolific COVID-19 misinformer who reportedly advised President Donald Trump on hydroxychloroquine back in April, one unproven cure has not been enough. A Media Matters analysis found the prime-time host and her guests have pushed a total of at least seven different unproven drugs on The Ingraham Angle. Below is a list of underdeveloped or unproven treatments beyond hydroxychloroquine which Ingraham or her guest promoted: Azithromycin Ingraham and her guests have promoted azithromycin -- alone and in combination with hydroxychloroquine -- as a treatment for COVID-19 on multiple occasions. Azithromycin is a commonly prescribed drug that treats a variety of bacterial infections. A large study in Brazil found that “the efficacy and safety of azithromycin in the treatment of COVID-19 remain uncertain.”  This has not stopped Ingraham and her guests from promoting the drug on her show. She has repeatedly relied on the research of French microbiologist Didier Raoult to boost azithromycin on its own as well as in combination with hydroxychloroquine. The National Institutes of Health “recommends against the use of chloroquine or hydroxychloroquine with or without azithromycin.” Furthermore, Raoult’s record on assessing potential COVID-19 treatments is questionable. According to The New York Times, his study on hydroxychloroquine was “riddled with discrepancies and apparent errors.” Here are some examples from Ingraham’s show:  During an April 22 segment attacking a Veteran Affairs study which found an “increased risk of death associated with COVID-19 patients treated with [hydroxychloroquine] alone,” Ingraham repeated Raoult’s claim that azithromycin is “a proposed treatment for COVID.” On April 27, Ingraham again attacked the Veteran Affairs study, calling it “shoddy” and “ridiculous,” and cited Raoult’s research on hydroxychloroquine and azithromycin. On May 6, Ingraham promoted a study by Raoult to claim that “using … hydroxychloroquine and azithromycin before COVID-19 complications occur is, quote, ‘safe and associated with very low fatality rate in patients.’” She called the results of the study “pretty stunning.” On May 28, she touted “new reviews of studies that vindicate the use of hydroxychloroquine and azithromycin as a treatment” for COVID-19. On September 8, Ingraham promoted “Vitamin D3, hydroxychloroquine, and azithromycin” as a potential treatment for COVID-19. As recently as October 2, Ingraham Angle guest Dr. Stephen Smith said, “There are plenty of trials showing that hydroxychloroquine, especially with azithromycin, works.\"\"\""
   ]
  },
  {
   "cell_type": "code",
   "execution_count": 16,
   "metadata": {},
   "outputs": [
    {
     "name": "stdout",
     "output_type": "stream",
     "text": [
      "['During the pandemic that has killed over 200,000 Americans so far, Fox News host Laura Ingraham and her guests have promoted at least seven different unproven treatments they purport could prevent, treat, or alleviate symptoms of COVID-19.', 'The president’s and right-wing media’s obsession with hydroxychloroquine has been well documented.', 'The antimalarial drug has not been proved to treat or prevent COVID-19.', 'Despite this lack of evidence, Fox’s coverage -- riddled with misinformation, conspiracy theories, and political spin -- has been an unmitigated disaster for the development of potential vaccines and therapeutics, undermining scientific research and eroding trust in public health officials.', 'But for Ingraham, a prolific COVID-19 misinformer who reportedly advised President Donald Trump on hydroxychloroquine back in April, one unproven cure has not been enough.', 'A Media Matters analysis found the prime-time host and her guests have pushed a total of at least seven different unproven drugs on The Ingraham Angle.', 'Below is a list of underdeveloped or unproven treatments beyond hydroxychloroquine which Ingraham or her guest promoted: Azithromycin Ingraham and her guests have promoted azithromycin -- alone and in combination with hydroxychloroquine -- as a treatment for COVID-19 on multiple occasions.', 'Azithromycin is a commonly prescribed drug that treats a variety of bacterial infections.', 'A large study in Brazil found that “the efficacy and safety of azithromycin in the treatment of COVID-19 remain uncertain.”  This has not stopped Ingraham and her guests from promoting the drug on her show.', 'She has repeatedly relied on the research of French microbiologist Didier Raoult to boost azithromycin on its own as well as in combination with hydroxychloroquine.', 'The National Institutes of Health “recommends against the use of chloroquine or hydroxychloroquine with or without azithromycin.” Furthermore, Raoult’s record on assessing potential COVID-19 treatments is questionable.', 'According to The New York Times, his study on hydroxychloroquine was “riddled with discrepancies and apparent errors.” Here are some examples from Ingraham’s show:  During an April 22 segment attacking a Veteran Affairs study which found an “increased risk of death associated with COVID-19 patients treated with [hydroxychloroquine] alone,” Ingraham repeated Raoult’s claim that azithromycin is “a proposed treatment for COVID.” On April 27, Ingraham again attacked the Veteran Affairs study, calling it “shoddy” and “ridiculous,” and cited Raoult’s research on hydroxychloroquine and azithromycin.', 'On May 6, Ingraham promoted a study by Raoult to claim that “using … hydroxychloroquine and azithromycin before COVID-19 complications occur is, quote, ‘safe and associated with very low fatality rate in patients.’” She called the results of the study “pretty stunning.” On May 28, she touted “new reviews of studies that vindicate the use of hydroxychloroquine and azithromycin as a treatment” for COVID-19.', 'On September 8, Ingraham promoted “Vitamin D3, hydroxychloroquine, and azithromycin” as a potential treatment for COVID-19.', 'As recently as October 2, Ingraham Angle guest Dr. Stephen Smith said, “There are plenty of trials showing that hydroxychloroquine, especially with azithromycin, works.']\n"
     ]
    }
   ],
   "source": [
    "print(sent_tokenize(article))"
   ]
  },
  {
   "cell_type": "code",
   "execution_count": null,
   "metadata": {},
   "outputs": [],
   "source": []
  }
 ],
 "metadata": {
  "kernelspec": {
   "display_name": "Python 3",
   "language": "python",
   "name": "python3"
  },
  "language_info": {
   "codemirror_mode": {
    "name": "ipython",
    "version": 3
   },
   "file_extension": ".py",
   "mimetype": "text/x-python",
   "name": "python",
   "nbconvert_exporter": "python",
   "pygments_lexer": "ipython3",
   "version": "3.7.6"
  }
 },
 "nbformat": 4,
 "nbformat_minor": 4
}
